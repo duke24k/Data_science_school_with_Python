{
 "cells": [
  {
   "cell_type": "markdown",
   "metadata": {},
   "source": [
    "# What is git?"
   ]
  },
  {
   "cell_type": "markdown",
   "metadata": {},
   "source": [
    "서비스 또는 프로그램 개발에 있어서 버전을 관리해주는 시스템."
   ]
  },
  {
   "cell_type": "markdown",
   "metadata": {},
   "source": [
    "\t1. WHAT IS GIT? : 서비스 또는 프로그램 개발에있어서 버전을 관리해주는 시스템.\n",
    "\t- 버전관리시스템 : 변경되는 내용만 저장함. / 단점 : 무조건 네트워크를 연결해야함.\n",
    "\t- 분산 버전관리시스템 : 내부저장소에 저장하고, 중앙저장소에 올리는 방식\n",
    "\t- Add : staging에 저장 / commit : 내부저장소에 저장 / push : 중앙저장소( github ) 에 저장\n",
    "\t- GITHUB 은 중앙 저장소를 제공해주는 서비스의 일종.\n",
    "\n",
    "\t2. Git의 특징\n",
    "\t- 빠른 속도와 성능\n",
    "\t- 분산작업 가능\n",
    "\t- 데이터의 보장성 ( git의 모든 파일은 암호화 )\n",
    "\t- Staging area\n",
    "\t- Branch 모델\n",
    "\n",
    "\t3. Git의 구조\n",
    "\t- Work space : 작업이 이뤄지는 장소\n",
    "\t- Index ( = staging ) \n",
    "\t- 내부저장소\n",
    "\t- 외부저장소 ( github )\n",
    "\t\n",
    "\t4. Git 주요 명령어\n",
    "\t- Init : git 초기화\n",
    "\t- Clone : 외부저장소에서 프로젝트 내려받기\n",
    "\t- Add : 변경된 내용을 index영역에 올려두는 명령어\n",
    "\t- Commit : index 영역에 있는 내용을 내부저장소에 저장\n",
    "\t- Status : 현재 git 상태 확인\n",
    "\t- Branch : 가지치기 / merge 된 브랜치를 삭제시 -d branch_name / merge 안된 브랜치 삭제 시 -D\n",
    "\t- Checkout : 작업 환경 이동 ( branch 끼리 왔다갔다 할 수 있는 명령어 )\n",
    "\t- Push : 외부저장소에 데이터 저장\n",
    "\t- Pull : 외부저장소에서 최신 변경사항 받아오기\n",
    "\t- Merge : master 인 상태에서 다른 branch를 가져오는 것\n",
    "\t\n",
    "\t5. Branch Model\n",
    "\t- Work flow ; commit ==> make branch ( develop ) ==> commit in the branch ==> checkout master \n",
    "                         ==> merge develop on master branch\n",
    "\t6. 되돌리기 - using checkout\n",
    "\t- Git checkout \"reflog 에 고유번호 값\" : 그 시점의 상태로 새로운 브랜치를 파겠다.\n",
    "      Git checkout -b 브랜치명 : 브랜치 이름 설정"
   ]
  },
  {
   "cell_type": "code",
   "execution_count": null,
   "metadata": {
    "collapsed": true
   },
   "outputs": [],
   "source": []
  }
 ],
 "metadata": {
  "kernelspec": {
   "display_name": "Python 2",
   "language": "python",
   "name": "python2"
  },
  "language_info": {
   "codemirror_mode": {
    "name": "ipython",
    "version": 2
   },
   "file_extension": ".py",
   "mimetype": "text/x-python",
   "name": "python",
   "nbconvert_exporter": "python",
   "pygments_lexer": "ipython2",
   "version": "2.7.11"
  }
 },
 "nbformat": 4,
 "nbformat_minor": 0
}
