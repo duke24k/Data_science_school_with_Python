{
 "cells": [
  {
   "cell_type": "markdown",
   "metadata": {},
   "source": [
    "# 선수 평점 분석 모델"
   ]
  },
  {
   "cell_type": "markdown",
   "metadata": {},
   "source": [
    "- 선수 평점 분석 모델은 축구선수들의 경기 데이터를 활용해 각 포지션별로 어떤 Feature 가 중요한지 분석하여 다양한 인사이트를 얻을 수 있는 모델\n",
    "\n",
    "- 크롤링 대상 웹사이트 : www.whoscored.com\n",
    "- 표본대상 : 7개 리그(132개팀)에 소속되어 있는 3698명의 축구선수\n",
    "   - 대상 리그 : 독일, 스페인, 영국, 프랑스, 이탈리아, 네덜란드, 러시아\n",
    "   - 대상 포지션 : 공격수(FW), 미드필더(MF), 수비수(DF), 골키퍼(GK)\n",
    "   - 대상 선수 : 출전시간이 270분 이상인 축구 선수\n",
    "    "
   ]
  },
  {
   "cell_type": "markdown",
   "metadata": {},
   "source": [
    "## 1. 데이터 수집"
   ]
  },
  {
   "cell_type": "markdown",
   "metadata": {},
   "source": [
    "https://github.com/junhwanjang/DataSchool/blob/master/Project/whoscored/1_Crawling%20Players'%20data.ipynb"
   ]
  },
  {
   "cell_type": "markdown",
   "metadata": {},
   "source": [
    "## 2. 포지션 별 OLS 분석\n",
    "- 현실 적용 방안 : 선수 평점 모델을 활용하여 아마추어 선수나 프로 선수들의 연습경기의 평점을 산출 할 수 있다. 더 나아가 2015-2016 시즌의 데이터와 10년간의 데이터를 비교한다면 프로축구에서 10년동안 경기 스타일의 변화 추이와 주요 요소에 대한 인사이트를 얻을 수 있다."
   ]
  },
  {
   "cell_type": "markdown",
   "metadata": {},
   "source": [
    "### 2-1) 포워드\n",
    "https://github.com/junhwanjang/DataSchool/blob/master/Project/whoscored/2_Forward%20OLS%20analysis.ipynb\n",
    "\n",
    "\n",
    "### 2-2) 미드필더\n",
    "https://github.com/junhwanjang/DataSchool/blob/master/Project/whoscored/3_Midfielder%20OLS%20analysis.ipynb\n",
    "\n",
    "### 2-3) 수비수\n",
    "https://github.com/junhwanjang/DataSchool/blob/master/Project/whoscored/4_Defender%20OLS%20analysis.ipynb\n",
    "\n",
    "### 2-4) 골키퍼\n",
    "https://github.com/junhwanjang/DataSchool/blob/master/Project/whoscored/5_Goalkeeper%20OLS%20analysis.ipynb"
   ]
  },
  {
   "cell_type": "markdown",
   "metadata": {},
   "source": [
    "## 3. 포지션 적합도 분석\n",
    "- Train Data : 단일 포지션을 소화하는 축구선수 (Football players having single position)\n",
    "- Test Data : 멀티 포지션을 소화하는 축구선수 (Football players having multi positions)\n",
    "- 현실 적용 방안 : 멀티 포지션을 소화하는 축구선수들의 최적의 포지션을 찾을 수 있다. 스포츠도 게임의 일종이므로 이를 게임산업에 적용시킬수도 있다. (It could help players having multi positions find their better position. The model will be used for the game industry because sport itself is a kind of game.)\n",
    "\n",
    "\n",
    "https://github.com/junhwanjang/DataSchool/blob/master/Project/whoscored/6_Position%20Goodness%20analysis.ipynb"
   ]
  },
  {
   "cell_type": "code",
   "execution_count": null,
   "metadata": {
    "collapsed": true
   },
   "outputs": [],
   "source": []
  }
 ],
 "metadata": {
  "kernelspec": {
   "display_name": "Python 2",
   "language": "python",
   "name": "python2"
  },
  "language_info": {
   "codemirror_mode": {
    "name": "ipython",
    "version": 2
   },
   "file_extension": ".py",
   "mimetype": "text/x-python",
   "name": "python",
   "nbconvert_exporter": "python",
   "pygments_lexer": "ipython2",
   "version": "2.7.11"
  }
 },
 "nbformat": 4,
 "nbformat_minor": 0
}
