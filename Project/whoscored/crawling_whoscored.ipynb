{
 "cells": [
  {
   "cell_type": "markdown",
   "metadata": {},
   "source": [
    "# Crawling Whoscored Web Site\n",
    "- https://www.whoscored.com/"
   ]
  },
  {
   "cell_type": "code",
   "execution_count": 28,
   "metadata": {
    "collapsed": true
   },
   "outputs": [],
   "source": [
    "# import package\n",
    "import pandas as pd\n",
    "import time\n",
    "from selenium import webdriver"
   ]
  },
  {
   "cell_type": "code",
   "execution_count": 29,
   "metadata": {
    "collapsed": true
   },
   "outputs": [],
   "source": [
    "api_delay_term = 5"
   ]
  },
  {
   "cell_type": "code",
   "execution_count": 30,
   "metadata": {
    "collapsed": true
   },
   "outputs": [],
   "source": [
    "def str_to_zero(point):\n",
    "    return 0 if point == \"-\" else point"
   ]
  },
  {
   "cell_type": "code",
   "execution_count": 31,
   "metadata": {
    "collapsed": false
   },
   "outputs": [],
   "source": [
    "# cawling league & team id\n",
    "# parameter : team id\n",
    "# return : league teams & team id\n",
    "def crawling_league_teams(team_id):\n",
    "    url = \"https://www.whoscored.com/Teams/\" + str(team_id)\n",
    "    driver =  webdriver.PhantomJS()\n",
    "    driver.get(url)\n",
    "    time.sleep(api_delay_term)\n",
    "    team_names = driver.find_elements_by_css_selector(\"#teams option\")\n",
    "    \n",
    "    df = pd.DataFrame(columns=[\"team_id\",\"team_name\"])\n",
    "    \n",
    "    for team_name in team_names:\n",
    "        name = team_name.text \n",
    "        team_id = team_name.get_attribute(\"value\").split(\"/\")[2]\n",
    "        tmp_dict = {\"team_id\":team_id, \"team_name\":name }\n",
    "        df.loc[len(df)] = tmp_dict\n",
    "    driver.close()\n",
    "    return df"
   ]
  },
  {
   "cell_type": "code",
   "execution_count": 32,
   "metadata": {
    "collapsed": false
   },
   "outputs": [],
   "source": [
    "# team players summary list crawling\n",
    "# parameter : team id\n",
    "# return : pandas DataFrame : player summary features\n",
    "def crawling_player_summary(team_id):\n",
    "    url = \"https://www.whoscored.com/Teams/\" + str(team_id)\n",
    "    driver =  webdriver.PhantomJS()\n",
    "    driver.get(url)\n",
    "    time.sleep(api_delay_term)\n",
    "    elements = driver.find_elements_by_css_selector(\"#player-table-statistics-body tr\")\n",
    "    \n",
    "    df = pd.DataFrame(columns=[\n",
    "            'player_number', 'flag', 'name', 'age', 'position', 'tall', 'weight', 'full_time', 'half_time', 'mins', \n",
    "            'goals', 'asists', 'yel', 'red', 'spg', 'ps', 'motm', 'aw', 'rating',\n",
    "        ])\n",
    "    \n",
    "    for element in elements:\n",
    "\n",
    "        games = element.find_elements_by_css_selector(\"td\")[5].text\n",
    "        games = games.split(\"(\")\n",
    "        full_time, half_time = games[0], 0\n",
    "        if len(games) > 1 :\n",
    "            half_time = games[1].replace(\")\",\"\")\n",
    "        else :\n",
    "            half_time = 0\n",
    "\n",
    "        tmp_dict = { \n",
    "            \"player_number\": element.find_elements_by_css_selector(\"td\")[2].find_elements_by_css_selector(\"a\")[0].get_attribute(\"href\").split(\"/\")[4], \n",
    "            \"flag\": element.find_elements_by_css_selector(\"td\")[1].find_elements_by_css_selector(\"span\")[0].get_attribute(\"class\").split(\"-\")[2],\n",
    "            \"name\": element.find_elements_by_css_selector(\"td\")[2].find_elements_by_css_selector(\"a\")[0].text, \n",
    "            \"age\": element.find_elements_by_css_selector(\"td\")[2].find_elements_by_css_selector(\"span\")[0].text, \n",
    "            \"position\": element.find_elements_by_css_selector(\"td\")[2].find_elements_by_css_selector(\"span\")[1].text[1:], \n",
    "            \"tall\": element.find_elements_by_css_selector(\"td\")[3].text,\n",
    "            \"weight\": element.find_elements_by_css_selector(\"td\")[4].text, \n",
    "            \"full_time\": full_time,\n",
    "            \"half_time\": half_time,\n",
    "            \"mins\": str_to_zero(element.find_elements_by_css_selector(\"td\")[6].text),\n",
    "            \"goals\": str_to_zero(element.find_elements_by_css_selector(\"td\")[7].text),\n",
    "            \"asists\": str_to_zero(element.find_elements_by_css_selector(\"td\")[8].text),\n",
    "            \"yel\": str_to_zero(element.find_elements_by_css_selector(\"td\")[9].text),\n",
    "            \"red\": str_to_zero(element.find_elements_by_css_selector(\"td\")[10].text),\n",
    "            \"spg\": str_to_zero(element.find_elements_by_css_selector(\"td\")[11].text),\n",
    "            \"ps\": str_to_zero(element.find_elements_by_css_selector(\"td\")[12].text),\n",
    "            \"aw\": str_to_zero(element.find_elements_by_css_selector(\"td\")[13].text),\n",
    "            \"motm\": str_to_zero(element.find_elements_by_css_selector(\"td\")[14].text),\n",
    "            \"rating\": str_to_zero(element.find_elements_by_css_selector(\"td\")[15].text),\n",
    "        }\n",
    "        df.loc[len(df)] = tmp_dict\n",
    "    driver.close()\n",
    "    return df"
   ]
  },
  {
   "cell_type": "code",
   "execution_count": 33,
   "metadata": {
    "collapsed": false
   },
   "outputs": [],
   "source": [
    "# team players defensive list crawling\n",
    "# parameter : team id\n",
    "# return : pandas DataFrame : player defensive features\n",
    "def crawling_player_defensive(team_id):\n",
    "    url = \"https://www.whoscored.com/Teams/\" + str(team_id)\n",
    "    driver = webdriver.PhantomJS()\n",
    "    driver.get(url)\n",
    "    time.sleep(api_delay_term)\n",
    "    driver.find_elements_by_css_selector(\"#team-squad-stats-options .in-squad-detailed-view\")[0].find_element_by_css_selector(\"a\").click()\n",
    "    time.sleep(api_delay_term)\n",
    "    elements = driver.find_elements_by_css_selector(\"#team-squad-stats-defensive #player-table-statistics-body tr\")\n",
    "\n",
    "    df = pd.DataFrame(columns=[\n",
    "            \"player_number\", \"tackles\", \"inter\", \"fouls\", \"offsides\", \"clear\", \"drb\", \"blocks\", \"owng\"\n",
    "        ])\n",
    "\n",
    "    for element in elements:\n",
    "       \n",
    "        tmp_dict = {\n",
    "            \"player_number\": element.find_elements_by_css_selector(\"td\")[2].find_elements_by_css_selector(\"a\")[0].get_attribute(\"href\").split(\"/\")[4], \n",
    "            \"tackles\": str_to_zero(element.find_elements_by_css_selector(\"td\")[7].text), \n",
    "            \"inter\": str_to_zero(element.find_elements_by_css_selector(\"td\")[8].text), \n",
    "            \"fouls\": str_to_zero(element.find_elements_by_css_selector(\"td\")[9].text),\n",
    "            \"offsides\": str_to_zero(element.find_elements_by_css_selector(\"td\")[10].text),\n",
    "            \"clear\": str_to_zero(element.find_elements_by_css_selector(\"td\")[11].text),\n",
    "            \"drb\": str_to_zero(element.find_elements_by_css_selector(\"td\")[12].text),\n",
    "            \"blocks\": str_to_zero(element.find_elements_by_css_selector(\"td\")[13].text),\n",
    "            \"owng\": str_to_zero(element.find_elements_by_css_selector(\"td\")[14].text),\n",
    "        }\n",
    "        \n",
    "        df.loc[len(df)] = tmp_dict\n",
    "    driver.close()\n",
    "    return df"
   ]
  },
  {
   "cell_type": "code",
   "execution_count": 34,
   "metadata": {
    "collapsed": false
   },
   "outputs": [],
   "source": [
    "# team players offensive list crawling\n",
    "# parameter : team id\n",
    "# return : pandas DataFrame : player offensive features\n",
    "def crawling_player_offensive(team_id):\n",
    "    url = \"https://www.whoscored.com/Teams/\" + str(team_id)\n",
    "    driver = webdriver.PhantomJS()\n",
    "    driver.get(url)\n",
    "    time.sleep(api_delay_term)\n",
    "    driver.find_elements_by_css_selector(\"#team-squad-stats-options .in-squad-detailed-view\")[1].find_element_by_css_selector(\"a\").click()\n",
    "    time.sleep(api_delay_term)\n",
    "    elements = driver.find_elements_by_css_selector(\"#statistics-table-offensive #player-table-statistics-body tr\")\n",
    "\n",
    "    df = pd.DataFrame(columns=[\n",
    "            \"player_number\", \"keyp\", \"fouled\", \"off\", \"disp\", \"unstch\"\n",
    "        ])\n",
    "\n",
    "    for element in elements:\n",
    "       \n",
    "        tmp_dict = {\n",
    "            \"player_number\": element.find_elements_by_css_selector(\"td\")[2].find_elements_by_css_selector(\"a\")[0].get_attribute(\"href\").split(\"/\")[4], \n",
    "            \"keyp\": str_to_zero(element.find_elements_by_css_selector(\"td\")[10].text), \n",
    "            \"fouled\": str_to_zero(element.find_elements_by_css_selector(\"td\")[12].text), \n",
    "            \"off\": str_to_zero(element.find_elements_by_css_selector(\"td\")[13].text),\n",
    "            \"disp\": str_to_zero(element.find_elements_by_css_selector(\"td\")[14].text),\n",
    "            \"unstch\": str_to_zero(element.find_elements_by_css_selector(\"td\")[15].text),\n",
    "        }\n",
    "        \n",
    "        df.loc[len(df)] = tmp_dict\n",
    "    driver.close()\n",
    "    return df"
   ]
  },
  {
   "cell_type": "code",
   "execution_count": 35,
   "metadata": {
    "collapsed": false
   },
   "outputs": [],
   "source": [
    "# team players passing list crawling\n",
    "# parameter : team id\n",
    "# return : pandas DataFrame : player passing features\n",
    "def crawling_player_passing(team_id):\n",
    "    url = \"https://www.whoscored.com/Teams/\" + str(team_id)\n",
    "    driver = webdriver.PhantomJS()\n",
    "    driver.get(url)\n",
    "    time.sleep(api_delay_term)\n",
    "    driver.find_elements_by_css_selector(\"#team-squad-stats-options .in-squad-detailed-view\")[2].find_element_by_css_selector(\"a\").click()\n",
    "    time.sleep(api_delay_term)\n",
    "    elements = driver.find_elements_by_css_selector(\"#statistics-table-passing #player-table-statistics-body tr\")\n",
    "\n",
    "    df = pd.DataFrame(columns=[\n",
    "            \"player_number\", \"avgp\", \"ps\", \"crosses\", \"longb\", \"thrb\"\n",
    "        ])\n",
    "\n",
    "    for element in elements:\n",
    "       \n",
    "        tmp_dict = {\n",
    "            \"player_number\": element.find_elements_by_css_selector(\"td\")[2].find_elements_by_css_selector(\"a\")[0].get_attribute(\"href\").split(\"/\")[4], \n",
    "            \"avgp\": str_to_zero(element.find_elements_by_css_selector(\"td\")[8].text), \n",
    "            \"ps\": str_to_zero(element.find_elements_by_css_selector(\"td\")[9].text), \n",
    "            \"crosses\": str_to_zero(element.find_elements_by_css_selector(\"td\")[10].text),\n",
    "            \"longb\": str_to_zero(element.find_elements_by_css_selector(\"td\")[11].text),\n",
    "            \"thrb\": str_to_zero(element.find_elements_by_css_selector(\"td\")[12].text),\n",
    "        }\n",
    "        \n",
    "        df.loc[len(df)] = tmp_dict\n",
    "    driver.close()\n",
    "    return df"
   ]
  },
  {
   "cell_type": "code",
   "execution_count": 36,
   "metadata": {
    "collapsed": false
   },
   "outputs": [],
   "source": [
    "# 13 : Arsenal : Premier League\n",
    "# 87 : Juventus : Serie A\n",
    "# 52 : Real Madrid : La Liga\n",
    "# 37 : Bayern Munich : Bundesliga\n",
    "\n",
    "# crawling league team data\n",
    "\n",
    "# LaLiga = crawling_league_teams(52)\n",
    "# SerieA = crawling_league_teams(87)\n",
    "# PremierLeague = crawling_league_teams(13)\n",
    "# Bundesliga = crawling_league_teams(37)\n",
    "\n",
    "# LaLiga.to_csv(\"./league/LaLiga.csv\", index=False)\n",
    "# SerieA.to_csv(\"./league/SerieA.csv\", index=False)\n",
    "# PremierLeague.to_csv(\"./league/PremierLeague.csv\", index=False)\n",
    "# Bundesliga.to_csv(\"./league/Bundesliga.csv\", index=False)"
   ]
  },
  {
   "cell_type": "code",
   "execution_count": 45,
   "metadata": {
    "collapsed": false
   },
   "outputs": [],
   "source": [
    "# crawling & merge player datas\n",
    "def make_players_info(team_id, team_name):\n",
    "    print(team_id, team_name)\n",
    "    player_summary_df = crawling_player_summary(team_id)\n",
    "    player_defensive_df = crawling_player_defensive(team_id)\n",
    "    player_offensive_df = crawling_player_offensive(team_id)\n",
    "    player_passing_df = crawling_player_passing(team_id)\n",
    "    print(\"player crawling DONE\")\n",
    "    \n",
    "    sd = player_summary_df.merge(player_defensive_df, on=\"player_number\")\n",
    "    sdo = sd.merge(player_offensive_df, on=\"player_number\")\n",
    "    sdop = sdo.merge(player_passing_df, on=\"player_number\")\n",
    "    \n",
    "    sdop[\"team_name\"] = team_name\n",
    "    \n",
    "    print(len(sdop))\n",
    "    \n",
    "    return sdop"
   ]
  },
  {
   "cell_type": "code",
   "execution_count": 38,
   "metadata": {
    "collapsed": false
   },
   "outputs": [],
   "source": [
    "def save_player_info(league):\n",
    "    df = pd.read_csv(\"./league/\" + league + \".csv\")\n",
    "    for idx, row in df.iterrows():\n",
    "        players_df = make_players_info(row.team_id, row.team_name)\n",
    "        players_df.to_csv(\"./player/\" + league + \"/\" + row.team_name + \".csv\")\n",
    "        print(row.team_name) \n",
    "    print(league + \"Done\")"
   ]
  },
  {
   "cell_type": "code",
   "execution_count": 52,
   "metadata": {
    "collapsed": false
   },
   "outputs": [
    {
     "data": {
      "text/html": [
       "<div>\n",
       "<table border=\"1\" class=\"dataframe\">\n",
       "  <thead>\n",
       "    <tr style=\"text-align: right;\">\n",
       "      <th></th>\n",
       "      <th>team_id</th>\n",
       "      <th>team_name</th>\n",
       "    </tr>\n",
       "  </thead>\n",
       "  <tbody>\n",
       "    <tr>\n",
       "      <th>0</th>\n",
       "      <td>53</td>\n",
       "      <td>Athletic Bilbao</td>\n",
       "    </tr>\n",
       "    <tr>\n",
       "      <th>1</th>\n",
       "      <td>63</td>\n",
       "      <td>Atletico Madrid</td>\n",
       "    </tr>\n",
       "    <tr>\n",
       "      <th>2</th>\n",
       "      <td>65</td>\n",
       "      <td>Barcelona</td>\n",
       "    </tr>\n",
       "    <tr>\n",
       "      <th>3</th>\n",
       "      <td>62</td>\n",
       "      <td>Celta Vigo</td>\n",
       "    </tr>\n",
       "    <tr>\n",
       "      <th>4</th>\n",
       "      <td>59</td>\n",
       "      <td>Deportivo La Coruna</td>\n",
       "    </tr>\n",
       "    <tr>\n",
       "      <th>5</th>\n",
       "      <td>824</td>\n",
       "      <td>Eibar</td>\n",
       "    </tr>\n",
       "    <tr>\n",
       "      <th>6</th>\n",
       "      <td>70</td>\n",
       "      <td>Espanyol</td>\n",
       "    </tr>\n",
       "    <tr>\n",
       "      <th>7</th>\n",
       "      <td>819</td>\n",
       "      <td>Getafe</td>\n",
       "    </tr>\n",
       "    <tr>\n",
       "      <th>8</th>\n",
       "      <td>925</td>\n",
       "      <td>Granada</td>\n",
       "    </tr>\n",
       "    <tr>\n",
       "      <th>9</th>\n",
       "      <td>838</td>\n",
       "      <td>Las Palmas</td>\n",
       "    </tr>\n",
       "    <tr>\n",
       "      <th>10</th>\n",
       "      <td>832</td>\n",
       "      <td>Levante</td>\n",
       "    </tr>\n",
       "    <tr>\n",
       "      <th>11</th>\n",
       "      <td>69</td>\n",
       "      <td>Malaga</td>\n",
       "    </tr>\n",
       "    <tr>\n",
       "      <th>12</th>\n",
       "      <td>64</td>\n",
       "      <td>Rayo Vallecano</td>\n",
       "    </tr>\n",
       "    <tr>\n",
       "      <th>13</th>\n",
       "      <td>54</td>\n",
       "      <td>Real Betis</td>\n",
       "    </tr>\n",
       "    <tr>\n",
       "      <th>14</th>\n",
       "      <td>52</td>\n",
       "      <td>Real Madrid</td>\n",
       "    </tr>\n",
       "    <tr>\n",
       "      <th>15</th>\n",
       "      <td>68</td>\n",
       "      <td>Real Sociedad</td>\n",
       "    </tr>\n",
       "    <tr>\n",
       "      <th>16</th>\n",
       "      <td>67</td>\n",
       "      <td>Sevilla</td>\n",
       "    </tr>\n",
       "    <tr>\n",
       "      <th>17</th>\n",
       "      <td>830</td>\n",
       "      <td>Sporting Gijon</td>\n",
       "    </tr>\n",
       "    <tr>\n",
       "      <th>18</th>\n",
       "      <td>55</td>\n",
       "      <td>Valencia</td>\n",
       "    </tr>\n",
       "    <tr>\n",
       "      <th>19</th>\n",
       "      <td>839</td>\n",
       "      <td>Villarreal</td>\n",
       "    </tr>\n",
       "  </tbody>\n",
       "</table>\n",
       "</div>"
      ],
      "text/plain": [
       "    team_id            team_name\n",
       "0        53      Athletic Bilbao\n",
       "1        63      Atletico Madrid\n",
       "2        65            Barcelona\n",
       "3        62           Celta Vigo\n",
       "4        59  Deportivo La Coruna\n",
       "5       824                Eibar\n",
       "6        70             Espanyol\n",
       "7       819               Getafe\n",
       "8       925              Granada\n",
       "9       838           Las Palmas\n",
       "10      832              Levante\n",
       "11       69               Malaga\n",
       "12       64       Rayo Vallecano\n",
       "13       54           Real Betis\n",
       "14       52          Real Madrid\n",
       "15       68        Real Sociedad\n",
       "16       67              Sevilla\n",
       "17      830       Sporting Gijon\n",
       "18       55             Valencia\n",
       "19      839           Villarreal"
      ]
     },
     "execution_count": 52,
     "metadata": {},
     "output_type": "execute_result"
    }
   ],
   "source": [
    "# 팀별로 저장\n",
    "\n",
    "# PremierLeague, SerieA, LaLiga, Bundesliga\n",
    "league = \"LaLiga\"\n",
    "df = pd.read_csv(\"./league/\" + league + \".csv\")\n",
    "df"
   ]
  },
  {
   "cell_type": "code",
   "execution_count": 55,
   "metadata": {
    "collapsed": false
   },
   "outputs": [
    {
     "name": "stdout",
     "output_type": "stream",
     "text": [
      "LaLiga 63 Atletico Madrid\n",
      "63 Atletico Madrid\n",
      "player crawling DONE\n",
      "25\n",
      "excute_time : 78.13458204269409\n"
     ]
    }
   ],
   "source": [
    "for idx, row in df[1:2].iterrows():\n",
    "    print(league, row.team_id, row.team_name)\n",
    "    tmp_def(league, row.team_id, row.team_name)\n",
    "\n",
    "# 63 Atletico Madrid"
   ]
  },
  {
   "cell_type": "code",
   "execution_count": 46,
   "metadata": {
    "collapsed": true
   },
   "outputs": [],
   "source": [
    "def tmp_def(league, team_id, team_name):\n",
    "    start_time = time.time()\n",
    "    player_df = make_players_info(team_id, team_name)\n",
    "    print(\"excute_time : {time}\".format(time=(time.time() - start_time)))\n",
    "    player_df[\"league\"] = league\n",
    "    \n",
    "    path = \"./player/\" + league + \"/\" + team_name + \".csv\"\n",
    "    player_df.to_csv(path, index=False)\n",
    "    \n",
    "    tmp_df = pd.read_csv(path)"
   ]
  },
  {
   "cell_type": "code",
   "execution_count": null,
   "metadata": {
    "collapsed": false
   },
   "outputs": [],
   "source": [
    "# PremierLeague, SerieA, LaLiga, Bundesliga\n",
    "league = \"PremierLeague\"\n",
    "team_id = 14\n",
    "team_name = \"Leicester\"\n",
    "\n",
    "start_time = time.time()\n",
    "player_df = make_players_info(team_id, team_name)\n",
    "print(\"excute_time : {time}\".format(time=(time.time() - start_time)))\n",
    "player_df[\"league\"] = league"
   ]
  },
  {
   "cell_type": "code",
   "execution_count": null,
   "metadata": {
    "collapsed": true
   },
   "outputs": [],
   "source": [
    "path = \"./player/\" + league + \"/\" + team_name + \".csv\"\n",
    "player_df.to_csv(path, index=False)"
   ]
  },
  {
   "cell_type": "code",
   "execution_count": null,
   "metadata": {
    "collapsed": false
   },
   "outputs": [],
   "source": [
    "tmp_df = pd.read_csv(path)\n",
    "tmp_df.head()"
   ]
  },
  {
   "cell_type": "code",
   "execution_count": null,
   "metadata": {
    "collapsed": true
   },
   "outputs": [],
   "source": []
  },
  {
   "cell_type": "code",
   "execution_count": null,
   "metadata": {
    "collapsed": true
   },
   "outputs": [],
   "source": []
  },
  {
   "cell_type": "code",
   "execution_count": null,
   "metadata": {
    "collapsed": true
   },
   "outputs": [],
   "source": []
  },
  {
   "cell_type": "code",
   "execution_count": null,
   "metadata": {
    "collapsed": true
   },
   "outputs": [],
   "source": []
  },
  {
   "cell_type": "code",
   "execution_count": null,
   "metadata": {
    "collapsed": true
   },
   "outputs": [],
   "source": []
  },
  {
   "cell_type": "code",
   "execution_count": null,
   "metadata": {
    "collapsed": true
   },
   "outputs": [],
   "source": []
  },
  {
   "cell_type": "code",
   "execution_count": null,
   "metadata": {
    "collapsed": true
   },
   "outputs": [],
   "source": []
  },
  {
   "cell_type": "code",
   "execution_count": null,
   "metadata": {
    "collapsed": true
   },
   "outputs": [],
   "source": []
  }
 ],
 "metadata": {
  "kernelspec": {
   "display_name": "Python 3",
   "language": "python",
   "name": "python3"
  },
  "language_info": {
   "codemirror_mode": {
    "name": "ipython",
    "version": 3
   },
   "file_extension": ".py",
   "mimetype": "text/x-python",
   "name": "python",
   "nbconvert_exporter": "python",
   "pygments_lexer": "ipython3",
   "version": "3.5.1"
  }
 },
 "nbformat": 4,
 "nbformat_minor": 0
}
