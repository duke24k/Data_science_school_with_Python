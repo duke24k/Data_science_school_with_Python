{
 "cells": [
  {
   "cell_type": "markdown",
   "metadata": {},
   "source": [
    "# Python 설치"
   ]
  },
  {
   "cell_type": "markdown",
   "metadata": {},
   "source": [
    "## Python 정보"
   ]
  },
  {
   "cell_type": "markdown",
   "metadata": {
    "bootstrap": {
     "panel": {
      "class": "panel-danger",
      "heading": ""
     }
    },
    "collapsed": true
   },
   "source": [
    "## Python의 종류\n",
    "\n",
    "* CPython\n",
    " * C 구현\n",
    "* jython\n",
    " * Java 구현\n",
    "* IronPython\n",
    " * .NET 구현\n",
    "* PyPy\n",
    " * python JIT \n",
    "* Pyston\n",
    " * LLVM"
   ]
  },
  {
   "cell_type": "markdown",
   "metadata": {
    "bootstrap": {
     "panel": {
      "class": "panel-danger",
      "heading": ""
     }
    },
    "collapsed": true
   },
   "source": [
    "## Python의 버전\n",
    "\n",
    "* 버전 표기법\n",
    " * major.minor.micro\n",
    "* Major 버전\n",
    " * version 2\n",
    "   * 현재 최신 버전 2.7.11\n",
    "   * 더 이상의 신규 마이너 버전 없음\n",
    " * version 3\n",
    "   * 현재 최신 버전 3.5.1\n",
    "   * version 2와 하위 호환 없음\n",
    "* 버전간 차이\n",
    "  * 문자열 저장\n",
    "    * version 2는 문자열을 바이너리 형태로 저장, version 3는 유니코드 포인트로 변환하여 저장\n",
    "  * 문법 차이\n",
    "    * print 명령, 나누기 연산자(division operator) 등"
   ]
  },
  {
   "cell_type": "markdown",
   "metadata": {},
   "source": [
    "## 기본 Python 설치"
   ]
  },
  {
   "cell_type": "markdown",
   "metadata": {
    "bootstrap": {
     "panel": {
      "class": "panel-danger",
      "heading": ""
     }
    }
   },
   "source": [
    "* Python을 사용할 수 있는 최소의 설치\n",
    "* 기본적으로 인터프리터(interpreter)만 설치\n",
    "* https://www.python.org/downloads/\n",
    "* 실제로는 사용하지 않는다."
   ]
  },
  {
   "cell_type": "markdown",
   "metadata": {},
   "source": [
    "## Python 배포판(Distrubutions)"
   ]
  },
  {
   "cell_type": "markdown",
   "metadata": {
    "bootstrap": {
     "panel": {
      "class": "panel-danger",
      "heading": ""
     }
    },
    "collapsed": true
   },
   "source": [
    "* 인터프리터 및 패키지(라이브러리), 패키지 관리 시스템, 콘솔(console), 강화된 인터프리터(enhanced interpreter) 등을 포함\n",
    "\n",
    "* 배포판의 종류\n",
    " * ActiveState ActivePython (commercial and community versions, including scientific computing modules)\n",
    " * pythonxy (Scientific-oriented Python Distribution based on Qt and Spyder)\n",
    " * winpython (WinPython is a portable scientific Python distribution for Windows)\n",
    " * Conceptive Python SDK (targets business, desktop and database applications)\n",
    " * Enthought Canopy (a commercial distribution for scientific computing)\n",
    " * PyIMSL Studio (a commercial distribution for numerical analysis – free for non-commercial use)\n",
    " * eGenix PyRun (a portable Python runtime, complete with stdlib, frozen into a single 3.5MB - 13MB executable file)\n",
    " * Anaconda Python (a full Python distribution for data management, analysis and visualization of large data sets)"
   ]
  },
  {
   "cell_type": "markdown",
   "metadata": {
    "bootstrap": {
     "panel": {
      "class": "panel-danger",
      "heading": ""
     }
    },
    "collapsed": true
   },
   "source": [
    "## Continuum Anaconda \n",
    "\n",
    "* 가장 후발 주자 (Travis Oliphant 2012년 설립)\n",
    "* 2015년 현재 사실상의 표준(de facto standard)\n",
    "* 모든 플랫폼(Windows/Linux/Mac 32/64bit)에 대해 완벽한 패키지 제공\n",
    "* 모든 플랫폼에 대해 오픈 소스, 무료\n",
    "* 기업용 유지 보수 서비스 동시 제공\n",
    "* 기업 빅데이터용 특수 패키지 개발 및 판매"
   ]
  },
  {
   "cell_type": "markdown",
   "metadata": {
    "bootstrap": {
     "panel": {
      "class": "panel-danger",
      "heading": ""
     }
    },
    "collapsed": true
   },
   "source": [
    "## Anaconda 배포판 다운로드 및 설치\n",
    "* https://www.continuum.io/downloads\n",
    "* Python 2.7, 64bit 선택\n",
    "* 원클릭 설치\n",
    "* http://conda.pydata.org/docs/get-started.html"
   ]
  },
  {
   "cell_type": "markdown",
   "metadata": {
    "bootstrap": {
     "panel": {
      "class": "panel-danger",
      "heading": ""
     }
    },
    "collapsed": true
   },
   "source": [
    "## 설치 완료 \n",
    "* Windows 시스템의 경우\n",
    "<img src=\"https://datascienceschool.net/upfiles/1d8672490a8845f6a44af3c2a9036979.png\" style=\"width: 50%;\">"
   ]
  },
  {
   "cell_type": "markdown",
   "metadata": {},
   "source": [
    "## 설치 확인"
   ]
  },
  {
   "cell_type": "markdown",
   "metadata": {},
   "source": [
    "### conda 패키지 관리자"
   ]
  },
  {
   "cell_type": "code",
   "execution_count": 1,
   "metadata": {
    "collapsed": false
   },
   "outputs": [
    {
     "name": "stdout",
     "output_type": "stream",
     "text": [
      "conda 4.0.5\r\n"
     ]
    }
   ],
   "source": [
    "conda --version"
   ]
  },
  {
   "cell_type": "code",
   "execution_count": 2,
   "metadata": {
    "collapsed": false
   },
   "outputs": [
    {
     "name": "stdout",
     "output_type": "stream",
     "text": [
      "# packages in environment at /home/joel/anaconda2:\r\n",
      "#\r\n",
      "abstract-rendering        0.5.1               np110py27_0  \r\n",
      "alabaster                 0.7.7                    py27_0  \r\n",
      "anaconda-client           1.4.0                    py27_0  \r\n",
      "anaconda                  custom                   py27_0  \r\n",
      "anaconda-navigator        1.1.0                    py27_0  \r\n",
      "argcomplete               1.0.0                    py27_1  \r\n",
      "astropy                   1.1.2               np110py27_0  \r\n",
      "babel                     2.2.0                    py27_0  \r\n",
      "backports-abc             0.4                       <pip>\r\n",
      "backports.ssl-match-hostname 3.4.0.2                   <pip>\r\n",
      "backports_abc             0.4                      py27_0  \r\n",
      "bash-kernel               0.4.1                     <pip>\r\n",
      "bcolz                     1.0.0                     <pip>\r\n",
      "beautifulsoup4            4.4.1                    py27_0  \r\n",
      "bitarray                  0.8.1                    py27_0  \r\n",
      "blaze                     0.9.1                    py27_0  \r\n",
      "blaze-core                0.9.0                    py27_0  \r\n",
      "bokeh                     0.11.1                   py27_0  \r\n",
      "boto                      2.39.0                   py27_0  \r\n",
      "bottleneck                1.0.0               np110py27_0  \r\n",
      "bz2file                   0.98                     py27_0  \r\n",
      "cairo                     1.12.18                       6  \r\n",
      "cdecimal                  2.3                      py27_0  \r\n",
      "cffi                      1.5.2                    py27_0  \r\n",
      "chest                     0.2.3                    py27_0  \r\n",
      "click                     6.6                       <pip>\r\n",
      "click-plugins             1.0.3                     <pip>\r\n",
      "cligj                     0.4.0                     <pip>\r\n",
      "cloudpickle               0.1.1                    py27_0  \r\n",
      "clyent                    1.2.1                    py27_0  \r\n",
      "colorama                  0.3.7                    py27_0  \r\n",
      "conda                     4.0.5                    py27_0  \r\n",
      "conda-build               1.19.0                   py27_0  \r\n",
      "conda-env                 2.4.5                    py27_0  \r\n",
      "conda-manager             0.3.1                    py27_0  \r\n",
      "configobj                 5.0.6                    py27_0  \r\n",
      "contextlib2               0.5.1                     <pip>\r\n",
      "cryptography              1.3                      py27_0  \r\n",
      "curl                      7.45.0                        0  \r\n",
      "cycler                    0.10.0                   py27_0  \r\n",
      "cyordereddict             1.0.0                     <pip>\r\n",
      "cython                    0.23.4                   py27_0  \r\n",
      "cytoolz                   0.7.5                    py27_0  \r\n",
      "dask                      0.8.1                    py27_0  \r\n",
      "datashape                 0.5.1                    py27_0  \r\n",
      "dateutil                  2.4.1                    py27_0  \r\n",
      "decorator                 4.0.9                    py27_0  \r\n",
      "descartes                 1.0.2                     <pip>\r\n",
      "dill                      0.2.4                    py27_0  \r\n",
      "docutils                  0.12                     py27_0  \r\n",
      "dynd                      0.7.3.dev1                <pip>\r\n",
      "dynd-python               0.7.2                    py27_0  \r\n",
      "enum34                    1.1.2                    py27_0  \r\n",
      "et-xmlfile                1.0.1                     <pip>\r\n",
      "et_xmlfile                1.0.1                    py27_0  \r\n",
      "fastcache                 1.0.2                    py27_0  \r\n",
      "filterpy                  0.1.2                     <pip>\r\n",
      "fiona                     1.6.3.post1               <pip>\r\n",
      "flask                     0.10.1                   py27_1  \r\n",
      "flask-cors                2.1.2                    py27_0  \r\n",
      "fontconfig                2.11.1                        5  \r\n",
      "frb                       1.1.4                     <pip>\r\n",
      "fred                      3.1                       <pip>\r\n",
      "fredapi                   0.3.7                     <pip>\r\n",
      "freetype                  2.5.5                         0  \r\n",
      "funcsigs                  0.4                      py27_0  \r\n",
      "futures                   3.0.3                    py27_0  \r\n",
      "fysom                     2.1.2                     <pip>\r\n",
      "gensim                    0.12.4              np110py27_0  \r\n",
      "gevent                    1.1.0                    py27_0  \r\n",
      "gevent-websocket          0.9.5                    py27_1  \r\n",
      "greenlet                  0.4.9                    py27_0  \r\n",
      "grin                      1.2.1                    py27_1  \r\n",
      "h5py                      2.6.0               np110py27_1  \r\n",
      "hdf5                      1.8.16                        0  \r\n",
      "heapdict                  1.0.0                    py27_0  \r\n",
      "httpretty                 0.8.14                   py27_0  \r\n",
      "idna                      2.0                      py27_0  \r\n",
      "ipaddress                 1.0.14                   py27_0  \r\n",
      "ipykernel                 4.3.1                    py27_0  \r\n",
      "ipyparallel               5.0.1                    py27_0  \r\n",
      "ipython                   4.1.2                    py27_1  \r\n",
      "ipython-genutils          0.1.0                     <pip>\r\n",
      "ipython-notebook          4.0.4                    py27_0  \r\n",
      "ipython-qtconsole         4.0.1                    py27_0  \r\n",
      "ipython_genutils          0.1.0                    py27_0  \r\n",
      "ipywidgets                4.1.1                    py27_0  \r\n",
      "itsdangerous              0.24                     py27_0  \r\n",
      "jbig                      2.1                           0  \r\n",
      "jdcal                     1.2                      py27_0  \r\n",
      "jedi                      0.9.0                    py27_0  \r\n",
      "jinja2                    2.8                      py27_0  \r\n",
      "joblib                    0.9.4                     <pip>\r\n",
      "jpeg                      8d                            0  \r\n",
      "jpype1                    0.6.1                     <pip>\r\n",
      "jsonschema                2.4.0                    py27_0  \r\n",
      "jupyter                   1.0.0                    py27_2  \r\n",
      "jupyter-client            4.2.2                     <pip>\r\n",
      "jupyter-console           4.1.1                     <pip>\r\n",
      "jupyter-core              4.1.0                     <pip>\r\n",
      "jupyter_client            4.2.2                    py27_0  \r\n",
      "jupyter_console           4.1.1                    py27_0  \r\n",
      "jupyter_core              4.1.0                    py27_0  \r\n",
      "keras                     1.0.0                     <pip>\r\n",
      "konlpy                    0.4.4                     <pip>\r\n",
      "libdynd                   0.7.2                         0  \r\n",
      "libffi                    3.0.13                        0  \r\n",
      "libgfortran               3.0                           0  \r\n",
      "libpng                    1.6.17                        0  \r\n",
      "libsodium                 1.0.3                         0  \r\n",
      "libtiff                   4.0.6                         1  \r\n",
      "libxml2                   2.9.2                         0  \r\n",
      "libxslt                   1.1.28                        0  \r\n",
      "llvmlite                  0.9.0                    py27_0  \r\n",
      "locket                    0.2.0                    py27_0  \r\n",
      "logbook                   0.12.5                    <pip>\r\n",
      "lxml                      3.6.0                    py27_0  \r\n",
      "markupsafe                0.23                     py27_0  \r\n",
      "matplotlib                1.5.1               np110py27_0  \r\n",
      "meld3                     1.0.2                    py27_0  \r\n",
      "mistune                   0.7.2                    py27_0  \r\n",
      "mkl                       11.3.1                        0  \r\n",
      "mkl-service               1.1.2                    py27_0  \r\n",
      "mpmath                    0.19                     py27_0  \r\n",
      "multipledispatch          0.4.8                    py27_0  \r\n",
      "nbconvert                 4.1.0                    py27_0  \r\n",
      "nbformat                  4.0.1                    py27_0  \r\n",
      "networkx                  1.11                     py27_0  \r\n",
      "nlpy                      0.0.9                     <pip>\r\n",
      "nltk                      3.2                      py27_0  \r\n",
      "nose                      1.3.7                    py27_0  \r\n",
      "notebook                  4.1.0                    py27_1  \r\n",
      "numba                     0.24.0              np110py27_0  \r\n",
      "numexpr                   2.5                 np110py27_0  \r\n",
      "numpy                     1.10.4                   py27_1  \r\n",
      "odo                       0.4.2                    py27_0  \r\n",
      "openpyxl                  2.3.2                    py27_0  \r\n",
      "openssl                   1.0.2g                        0  \r\n",
      "pandas                    0.18.0              np110py27_0  \r\n",
      "partd                     0.3.2                    py27_1  \r\n",
      "patchelf                  0.8                           0  \r\n",
      "path.py                   8.1.2                    py27_1  \r\n",
      "patsy                     0.4.0               np110py27_0  \r\n",
      "pep8                      1.7.0                    py27_0  \r\n",
      "pexpect                   4.0.1                    py27_0  \r\n",
      "pickleshare               0.5                      py27_0  \r\n",
      "pillow                    3.1.1                    py27_0  \r\n",
      "pip                       8.1.1                    py27_1  \r\n",
      "pixman                    0.32.6                        0  \r\n",
      "ply                       3.8                      py27_0  \r\n",
      "protobuf                  3.0.0b2                   <pip>\r\n",
      "psutil                    4.1.0                    py27_0  \r\n",
      "ptyprocess                0.5                      py27_0  \r\n",
      "pudb                      2016.1                    <pip>\r\n",
      "py                        1.4.31                   py27_0  \r\n",
      "pyasn1                    0.1.9                    py27_0  \r\n",
      "pycairo                   1.10.0                   py27_0  \r\n",
      "pycosat                   0.6.1                    py27_0  \r\n",
      "pycountry                 1.20                      <pip>\r\n",
      "pycparser                 2.14                     py27_0  \r\n",
      "pycrypto                  2.6.1                    py27_0  \r\n",
      "pycurl                    7.19.5.3                 py27_0  \r\n",
      "pyflakes                  1.1.0                    py27_0  \r\n",
      "pygments                  2.1.1                    py27_0  \r\n",
      "pymc                      2.3.6               np110py27_1  \r\n",
      "pymc3                     3.0                       <pip>\r\n",
      "pymongo                   3.0.3                    py27_0  \r\n",
      "pyopenssl                 0.15.1                   py27_2  \r\n",
      "pyparsing                 2.0.3                    py27_0  \r\n",
      "pyproj                    1.9.5.1                   <pip>\r\n",
      "pyqt                      4.11.4                   py27_1  \r\n",
      "pytables                  3.2.2               np110py27_3  \r\n",
      "pytest                    2.8.5                    py27_0  \r\n",
      "python                    2.7.11                        0  \r\n",
      "python-dateutil           2.5.1                    py27_0  \r\n",
      "pytz                      2016.2                   py27_0  \r\n",
      "pyyaml                    3.11                     py27_1  \r\n",
      "pyzmq                     15.2.0                   py27_0  \r\n",
      "qt                        4.8.7                         1  \r\n",
      "qtawesome                 0.3.2                    py27_0  \r\n",
      "qtconsole                 4.2.0                    py27_0  \r\n",
      "qtpy                      1.0                      py27_0  \r\n",
      "quandl                    2.8.9                     <pip>\r\n",
      "readline                  6.2                           2  \r\n",
      "redis                     2.6.9                         0  \r\n",
      "redis-py                  2.10.3                   py27_0  \r\n",
      "requests                  2.9.1                    py27_0  \r\n",
      "rope                      0.9.4                    py27_1  \r\n",
      "rpy2                      2.7.8                     <pip>\r\n",
      "rtree                     0.8.2                     <pip>\r\n",
      "scikit-image              0.12.3              np110py27_0  \r\n",
      "scikit-learn              0.17.1              np110py27_0  \r\n",
      "scipy                     0.17.0              np110py27_2  \r\n",
      "seaborn                   0.7.0                    py27_0  \r\n",
      "setuptools                20.6.7                   py27_0  \r\n",
      "shapely                   1.5.15                    <pip>\r\n",
      "simplegeneric             0.8.1                    py27_0  \r\n",
      "singledispatch            3.4.0.3                  py27_0  \r\n",
      "sip                       4.16.9                   py27_0  \r\n",
      "six                       1.10.0                   py27_0  \r\n",
      "smart-open                1.3.2                     <pip>\r\n",
      "smart_open                1.3.2                    py27_0  \r\n",
      "snowballstemmer           1.2.1                    py27_0  \r\n",
      "sockjs-tornado            1.0.1                    py27_0  \r\n",
      "sphinx                    1.3.5                    py27_0  \r\n",
      "sphinx-rtd-theme          0.1.9                     <pip>\r\n",
      "sphinx_rtd_theme          0.1.9                    py27_0  \r\n",
      "spyder                    2.3.8                    py27_1  \r\n",
      "spyder-app                2.3.8                    py27_0  \r\n",
      "sqlalchemy                1.0.12                   py27_0  \r\n",
      "sqlite                    3.9.2                         0  \r\n",
      "ssl_match_hostname        3.4.0.2                  py27_0  \r\n",
      "statsmodels               0.6.1               np110py27_0  \r\n",
      "supervisor                3.1.3                    py27_1  \r\n",
      "sympy                     1.0                      py27_0  \r\n",
      "tables                    3.2.2                     <pip>\r\n",
      "tensorflow                0.7.1                     <pip>\r\n",
      "terminado                 0.5                      py27_1  \r\n",
      "theano                    0.8.0                     <pip>\r\n",
      "tk                        8.5.18                        0  \r\n",
      "toolz                     0.7.4                    py27_0  \r\n",
      "tornado                   4.3                      py27_0  \r\n",
      "traitlets                 4.2.1                    py27_0  \r\n",
      "unicodecsv                0.14.1                   py27_0  \r\n",
      "urwid                     1.3.1                     <pip>\r\n",
      "util-linux                2.21                          0  \r\n",
      "virtualenv                13.0.1                   py27_0  \r\n",
      "wbdata                    0.2.7                     <pip>\r\n",
      "wbpy                      2.0.1                     <pip>\r\n",
      "werkzeug                  0.11.4                   py27_0  \r\n",
      "wheel                     0.29.0                   py27_0  \r\n",
      "xlrd                      0.9.4                    py27_0  \r\n",
      "xlsxwriter                0.8.4                    py27_0  \r\n",
      "xlwt                      1.0.0                    py27_0  \r\n",
      "xz                        5.0.5                         1  \r\n",
      "yaml                      0.1.6                         0  \r\n",
      "zeromq                    4.1.3                         0  \r\n",
      "zipline                   0.9.0                     <pip>\r\n",
      "zlib                      1.2.8                         0  \r\n"
     ]
    }
   ],
   "source": [
    "conda list"
   ]
  },
  {
   "cell_type": "code",
   "execution_count": 3,
   "metadata": {
    "collapsed": false
   },
   "outputs": [
    {
     "name": "stdout",
     "output_type": "stream",
     "text": [
      "Using Anaconda Cloud api site https://api.anaconda.org\r\n",
      "Fetching package metadata: ....\r\n",
      "python                       1.0.1                         0  defaults        \r\n",
      "                             2.6.8                         1  defaults        \r\n",
      "                             2.6.8                         2  defaults        \r\n",
      "                             2.6.8                         3  defaults        \r\n",
      "                             2.6.8                         4  defaults        \r\n",
      "                             2.6.8                         5  defaults        \r\n",
      "                             2.6.8                         6  defaults        \r\n",
      "                             2.6.8                         7  defaults        \r\n",
      "                             2.6.9                         0  defaults        \r\n",
      "                             2.6.9                         1  defaults        \r\n",
      "                             2.7.3                         2  defaults        \r\n",
      "                             2.7.3                         3  defaults        \r\n",
      "                             2.7.3                         4  defaults        \r\n",
      "                             2.7.3                         5  defaults        \r\n",
      "                             2.7.3                         6  defaults        \r\n",
      "                             2.7.3                         7  defaults        \r\n",
      "                             2.7.4                         0  defaults        \r\n",
      "                             2.7.5                         0  defaults        \r\n",
      "                             2.7.5                         1  defaults        \r\n",
      "                             2.7.5                         2  defaults        \r\n",
      "                             2.7.5                         3  defaults        \r\n",
      "                             2.7.6                         0  defaults        \r\n",
      "                             2.7.6                         1  defaults        \r\n",
      "                             2.7.6                         2  defaults        \r\n",
      "                             2.7.7                         0  defaults        \r\n",
      "                             2.7.7                         2  defaults        \r\n",
      "                             2.7.8                         0  defaults        \r\n",
      "                             2.7.8                         1  defaults        \r\n",
      "                             2.7.9                         0  defaults        \r\n",
      "                             2.7.9                         1  defaults        \r\n",
      "                             2.7.9                        d1  defaults        [debug]\r\n",
      "                             2.7.9                         2  defaults        \r\n",
      "                             2.7.9                        d2  defaults        [debug]\r\n",
      "                             2.7.9                         3  defaults        \r\n",
      "                             2.7.10                        0  defaults        \r\n",
      "                             2.7.10                       d0  defaults        [debug]\r\n",
      "                             2.7.10                        1  defaults        \r\n",
      "                             2.7.10                        2  defaults        \r\n",
      "                          *  2.7.11                        0  defaults        \r\n",
      "                             2.7.11                       d0  defaults        [debug]\r\n",
      "                             3.3.0                      pro0  defaults        \r\n",
      "                             3.3.0                      pro1  defaults        \r\n",
      "                             3.3.0                         2  defaults        \r\n",
      "                             3.3.0                         3  defaults        \r\n",
      "                             3.3.0                         4  defaults        \r\n",
      "                             3.3.1                         0  defaults        \r\n",
      "                             3.3.2                         0  defaults        \r\n",
      "                             3.3.2                         1  defaults        \r\n",
      "                             3.3.3                         0  defaults        \r\n",
      "                             3.3.4                         0  defaults        \r\n",
      "                             3.3.5                         0  defaults        \r\n",
      "                             3.3.5                         1  defaults        \r\n",
      "                             3.3.5                         2  defaults        \r\n",
      "                             3.3.5                         3  defaults        \r\n",
      "                             3.3.5                         4  defaults        \r\n",
      "                             3.4.0                         0  defaults        \r\n",
      "                             3.4.1                         0  defaults        \r\n",
      "                             3.4.1                         1  defaults        \r\n",
      "                             3.4.1                         2  defaults        \r\n",
      "                             3.4.1                         3  defaults        \r\n",
      "                             3.4.1                         4  defaults        \r\n",
      "                             3.4.2                         0  defaults        \r\n",
      "                             3.4.3                         0  defaults        \r\n",
      "                             3.4.3                         1  defaults        \r\n",
      "                             3.4.3                         2  defaults        \r\n",
      "                             3.4.4                         0  defaults        \r\n",
      "                             3.5.0rc4                      0  defaults        \r\n",
      "                             3.5.0                         0  defaults        \r\n",
      "                             3.5.0                         1  defaults        \r\n",
      "                             3.5.1                         0  defaults        \r\n"
     ]
    }
   ],
   "source": [
    "conda search --full-name python"
   ]
  },
  {
   "cell_type": "markdown",
   "metadata": {},
   "source": [
    "### Python 인터프리터 동작 확인"
   ]
  },
  {
   "cell_type": "markdown",
   "metadata": {},
   "source": [
    "```\n",
    "$ python\n",
    "Python 2.7.11 |Anaconda custom (64-bit)| (default, Dec  6 2015, 18:08:32)\n",
    "[GCC 4.4.7 20120313 (Red Hat 4.4.7-1)] on linux2\n",
    "Type \"help\", \"copyright\", \"credits\" or \"license\" for more information.\n",
    "Anaconda is brought to you by Continuum Analytics.\n",
    "Please check out: http://continuum.io/thanks and https://anaconda.org\n",
    ">>>\n",
    ">>> exit()\n",
    "```"
   ]
  },
  {
   "cell_type": "markdown",
   "metadata": {},
   "source": [
    "### IPython 콘솔 동작 확인"
   ]
  },
  {
   "cell_type": "markdown",
   "metadata": {},
   "source": [
    "```\n",
    "$ ipython\n",
    "Python 2.7.11 |Anaconda custom (64-bit)| (default, Dec  6 2015, 18:08:32)\n",
    "Type \"copyright\", \"credits\" or \"license\" for more information.\n",
    "\n",
    "IPython 4.1.2 -- An enhanced Interactive Python.\n",
    "?         -> Introduction and overview of IPython's features.\n",
    "%quickref -> Quick reference.\n",
    "help      -> Python's own help system.\n",
    "object?   -> Details about 'object', use 'object??' for extra details.\n",
    "\n",
    "In [1]:\n",
    "\n",
    "In [1]: exit\n",
    "\n",
    "```"
   ]
  },
  {
   "cell_type": "markdown",
   "metadata": {},
   "source": [
    "### Jupyter Qt 콘솔  동작 확인"
   ]
  },
  {
   "cell_type": "markdown",
   "metadata": {},
   "source": [
    "* X-window가 없는 리눅스 환경에서는 실행되지 않음\n",
    "\n",
    "```\n",
    "$ jupyter qtconsole &\n",
    "```\n",
    "또는\n",
    "* 모든 프로그램 > Anaconda2 > Jupyter QtConsole  (windows)\n",
    "\n",
    "\n",
    "<img src=\"https://datascienceschool.net/upfiles/1d150e89cfd54b4d9352d0c3bd849ce9.png\" style=\"width:100%;\">"
   ]
  }
 ],
 "metadata": {
  "celltoolbar": "Edit Metadata",
  "kernelspec": {
   "display_name": "Bash",
   "language": "bash",
   "name": "bash"
  },
  "language_info": {
   "codemirror_mode": "shell",
   "file_extension": ".sh",
   "mimetype": "text/x-sh",
   "name": "bash"
  }
 },
 "nbformat": 4,
 "nbformat_minor": 0
}